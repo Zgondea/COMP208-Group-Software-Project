{
 "cells": [
  {
   "cell_type": "code",
   "execution_count": 1,
   "metadata": {},
   "outputs": [],
   "source": [
    "import pandas as pd\n",
    "import numpy as np"
   ]
  },
  {
   "cell_type": "code",
   "execution_count": null,
   "metadata": {},
   "outputs": [],
   "source": [
    "file = \"data/recipeDataset.csv\"\n",
    "#df = pd.read_csv(file)  //Doesn't work\n",
    "df = pd.read_csv(file, encoding='ISO-8859-1')"
   ]
  },
  {
   "cell_type": "code",
   "execution_count": null,
   "metadata": {},
   "outputs": [
    {
     "data": {
      "text/html": [
       "<div>\n",
       "<style scoped>\n",
       "    .dataframe tbody tr th:only-of-type {\n",
       "        vertical-align: middle;\n",
       "    }\n",
       "\n",
       "    .dataframe tbody tr th {\n",
       "        vertical-align: top;\n",
       "    }\n",
       "\n",
       "    .dataframe thead th {\n",
       "        text-align: right;\n",
       "    }\n",
       "</style>\n",
       "<table border=\"1\" class=\"dataframe\">\n",
       "  <thead>\n",
       "    <tr style=\"text-align: right;\">\n",
       "      <th></th>\n",
       "      <th>Number</th>\n",
       "      <th>Name</th>\n",
       "      <th>Ingredients</th>\n",
       "      <th>Method</th>\n",
       "      <th>Energy_kcal</th>\n",
       "      <th>Nutritional_Information_Per_Serving</th>\n",
       "      <th>Serves</th>\n",
       "    </tr>\n",
       "  </thead>\n",
       "  <tbody>\n",
       "    <tr>\n",
       "      <th>0</th>\n",
       "      <td>1</td>\n",
       "      <td>Asaro potato porridge recipe</td>\n",
       "      <td>1 scotch bonnet pepper 1 medium chopped onion ...</td>\n",
       "      <td>1. Add the scotch bonnet, onion and red pepper...</td>\n",
       "      <td>329kcal</td>\n",
       "      <td>14g protein 10g fat, of which 3.5g saturates 4...</td>\n",
       "      <td>4.0</td>\n",
       "    </tr>\n",
       "    <tr>\n",
       "      <th>1</th>\n",
       "      <td>2</td>\n",
       "      <td>Bajan cou cou with spicy fish</td>\n",
       "      <td>Marinade 60g fresh coriander 35g fresh parsley...</td>\n",
       "      <td>Add the parsley, celery, spring onion, onion, ...</td>\n",
       "      <td>410kcal</td>\n",
       "      <td>37.3g protein 48g carbohydrate, of which 11.1g...</td>\n",
       "      <td>4.0</td>\n",
       "    </tr>\n",
       "    <tr>\n",
       "      <th>2</th>\n",
       "      <td>3</td>\n",
       "      <td>Baked potatoes with mince recipe</td>\n",
       "      <td>4 baking potatoes, scrubbed clean 250g extra-l...</td>\n",
       "      <td>Preheat the oven to 200¡C, fan 180¡C, gas mark...</td>\n",
       "      <td>306kcal</td>\n",
       "      <td>20.6g protein 3.5g fat, of which 1.6g saturate...</td>\n",
       "      <td>4.0</td>\n",
       "    </tr>\n",
       "    <tr>\n",
       "      <th>3</th>\n",
       "      <td>4</td>\n",
       "      <td>NaN</td>\n",
       "      <td>NaN</td>\n",
       "      <td>NaN</td>\n",
       "      <td>NaN</td>\n",
       "      <td>NaN</td>\n",
       "      <td>NaN</td>\n",
       "    </tr>\n",
       "  </tbody>\n",
       "</table>\n",
       "</div>"
      ],
      "text/plain": [
       "   Number                              Name  \\\n",
       "0       1      Asaro potato porridge recipe   \n",
       "1       2     Bajan cou cou with spicy fish   \n",
       "2       3  Baked potatoes with mince recipe   \n",
       "3       4                               NaN   \n",
       "\n",
       "                                         Ingredients  \\\n",
       "0  1 scotch bonnet pepper 1 medium chopped onion ...   \n",
       "1  Marinade 60g fresh coriander 35g fresh parsley...   \n",
       "2  4 baking potatoes, scrubbed clean 250g extra-l...   \n",
       "3                                                NaN   \n",
       "\n",
       "                                              Method Energy_kcal  \\\n",
       "0  1. Add the scotch bonnet, onion and red pepper...    329kcal    \n",
       "1  Add the parsley, celery, spring onion, onion, ...     410kcal   \n",
       "2  Preheat the oven to 200¡C, fan 180¡C, gas mark...     306kcal   \n",
       "3                                                NaN         NaN   \n",
       "\n",
       "                 Nutritional_Information_Per_Serving  Serves  \n",
       "0  14g protein 10g fat, of which 3.5g saturates 4...     4.0  \n",
       "1  37.3g protein 48g carbohydrate, of which 11.1g...     4.0  \n",
       "2  20.6g protein 3.5g fat, of which 1.6g saturate...     4.0  \n",
       "3                                                NaN     NaN  "
      ]
     },
     "execution_count": 5,
     "metadata": {},
     "output_type": "execute_result"
    }
   ],
   "source": [
    "df.head() # This outputs the Recipe Dataset Table."
   ]
  },
  {
   "cell_type": "code",
   "execution_count": null,
   "metadata": {},
   "outputs": [
    {
     "name": "stdout",
     "output_type": "stream",
     "text": [
      "Enter the ingredients:\n"
     ]
    }
   ],
   "source": [
    "# Method to store the inputed ingredients into an array.\n",
    "def inputIngredients():\n",
    "    ingredientsArray = []\n",
    "    print(\"Enter the ingredients:\")\n",
    "\n",
    "    # Allows the user to input ingredients until they press enter without typing anything.\n",
    "    while True:\n",
    "        ingredient = input(\"\")\n",
    "\n",
    "        # Check if the input is blank. If yes, exit the loop.\n",
    "        if ingredient == \"\":\n",
    "            break\n",
    "        # Otherwise add the inputed ingredient into the array.\n",
    "        ingredientsArray.append(ingredient)\n",
    "    \n",
    "    print(\"ingredients: \", ingredientsArray) # Just for testing.\n",
    "\n",
    "inputIngredients() # Calls the method which allows the user to input the ingredients."
   ]
  }
 ],
 "metadata": {
  "kernelspec": {
   "display_name": "base",
   "language": "python",
   "name": "python3"
  },
  "language_info": {
   "codemirror_mode": {
    "name": "ipython",
    "version": 3
   },
   "file_extension": ".py",
   "mimetype": "text/x-python",
   "name": "python",
   "nbconvert_exporter": "python",
   "pygments_lexer": "ipython3",
   "version": "3.12.4"
  }
 },
 "nbformat": 4,
 "nbformat_minor": 2
}
