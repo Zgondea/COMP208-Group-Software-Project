{
 "cells": [
  {
   "cell_type": "code",
   "execution_count": 1,
   "metadata": {},
   "outputs": [],
   "source": [
    "import pandas as pd\n",
    "import numpy as np"
   ]
  },
  {
   "cell_type": "code",
   "execution_count": 2,
   "metadata": {},
   "outputs": [],
   "source": [
    "file = \"data/recipeDataset.csv\"\n",
    "#df = pd.read_csv(file)  //Doesn't work\n",
    "df = pd.read_csv(file, encoding='ISO-8859-1')"
   ]
  },
  {
   "cell_type": "code",
   "execution_count": 3,
   "metadata": {},
   "outputs": [
    {
     "data": {
      "text/html": [
       "<div>\n",
       "<style scoped>\n",
       "    .dataframe tbody tr th:only-of-type {\n",
       "        vertical-align: middle;\n",
       "    }\n",
       "\n",
       "    .dataframe tbody tr th {\n",
       "        vertical-align: top;\n",
       "    }\n",
       "\n",
       "    .dataframe thead th {\n",
       "        text-align: right;\n",
       "    }\n",
       "</style>\n",
       "<table border=\"1\" class=\"dataframe\">\n",
       "  <thead>\n",
       "    <tr style=\"text-align: right;\">\n",
       "      <th></th>\n",
       "      <th>Number</th>\n",
       "      <th>Name</th>\n",
       "      <th>Ingredients</th>\n",
       "      <th>Method</th>\n",
       "      <th>Energy_kcal</th>\n",
       "      <th>Nutritional_Information_Per_Serving</th>\n",
       "      <th>Serves</th>\n",
       "    </tr>\n",
       "  </thead>\n",
       "  <tbody>\n",
       "    <tr>\n",
       "      <th>0</th>\n",
       "      <td>1</td>\n",
       "      <td>Asaro potato porridge recipe</td>\n",
       "      <td>1 scotch bonnet pepper 1 medium chopped onion ...</td>\n",
       "      <td>1. Add the scotch bonnet, onion and red pepper...</td>\n",
       "      <td>329kcal</td>\n",
       "      <td>14g protein 10g fat, of which 3.5g saturates 4...</td>\n",
       "      <td>4.0</td>\n",
       "    </tr>\n",
       "    <tr>\n",
       "      <th>1</th>\n",
       "      <td>2</td>\n",
       "      <td>Bajan cou cou with spicy fish</td>\n",
       "      <td>Marinade 60g fresh coriander 35g fresh parsley...</td>\n",
       "      <td>Add the parsley, celery, spring onion, onion, ...</td>\n",
       "      <td>410kcal</td>\n",
       "      <td>37.3g protein 48g carbohydrate, of which 11.1g...</td>\n",
       "      <td>4.0</td>\n",
       "    </tr>\n",
       "    <tr>\n",
       "      <th>2</th>\n",
       "      <td>3</td>\n",
       "      <td>Baked potatoes with mince recipe</td>\n",
       "      <td>4 baking potatoes, scrubbed clean 250g extra-l...</td>\n",
       "      <td>Preheat the oven to 200¡C, fan 180¡C, gas mark...</td>\n",
       "      <td>306kcal</td>\n",
       "      <td>20.6g protein 3.5g fat, of which 1.6g saturate...</td>\n",
       "      <td>4.0</td>\n",
       "    </tr>\n",
       "    <tr>\n",
       "      <th>3</th>\n",
       "      <td>4</td>\n",
       "      <td>NaN</td>\n",
       "      <td>NaN</td>\n",
       "      <td>NaN</td>\n",
       "      <td>NaN</td>\n",
       "      <td>NaN</td>\n",
       "      <td>NaN</td>\n",
       "    </tr>\n",
       "  </tbody>\n",
       "</table>\n",
       "</div>"
      ],
      "text/plain": [
       "   Number                              Name  \\\n",
       "0       1      Asaro potato porridge recipe   \n",
       "1       2     Bajan cou cou with spicy fish   \n",
       "2       3  Baked potatoes with mince recipe   \n",
       "3       4                               NaN   \n",
       "\n",
       "                                         Ingredients  \\\n",
       "0  1 scotch bonnet pepper 1 medium chopped onion ...   \n",
       "1  Marinade 60g fresh coriander 35g fresh parsley...   \n",
       "2  4 baking potatoes, scrubbed clean 250g extra-l...   \n",
       "3                                                NaN   \n",
       "\n",
       "                                              Method Energy_kcal  \\\n",
       "0  1. Add the scotch bonnet, onion and red pepper...    329kcal    \n",
       "1  Add the parsley, celery, spring onion, onion, ...     410kcal   \n",
       "2  Preheat the oven to 200¡C, fan 180¡C, gas mark...     306kcal   \n",
       "3                                                NaN         NaN   \n",
       "\n",
       "                 Nutritional_Information_Per_Serving  Serves  \n",
       "0  14g protein 10g fat, of which 3.5g saturates 4...     4.0  \n",
       "1  37.3g protein 48g carbohydrate, of which 11.1g...     4.0  \n",
       "2  20.6g protein 3.5g fat, of which 1.6g saturate...     4.0  \n",
       "3                                                NaN     NaN  "
      ]
     },
     "execution_count": 3,
     "metadata": {},
     "output_type": "execute_result"
    }
   ],
   "source": [
    "df.head() # This outputs the Recipe Dataset Table."
   ]
  },
  {
   "cell_type": "code",
   "execution_count": 4,
   "metadata": {},
   "outputs": [
    {
     "name": "stdout",
     "output_type": "stream",
     "text": [
      "Enter the ingredients:\n"
     ]
    },
    {
     "ename": "KeyboardInterrupt",
     "evalue": "Interrupted by user",
     "output_type": "error",
     "traceback": [
      "\u001b[0;31m---------------------------------------------------------------------------\u001b[0m",
      "\u001b[0;31mKeyboardInterrupt\u001b[0m                         Traceback (most recent call last)",
      "Cell \u001b[0;32mIn[4], line 18\u001b[0m\n\u001b[1;32m     14\u001b[0m         ingredientsArray\u001b[38;5;241m.\u001b[39mappend(ingredient)\n\u001b[1;32m     16\u001b[0m     \u001b[38;5;28mprint\u001b[39m(\u001b[38;5;124m\"\u001b[39m\u001b[38;5;124mingredients: \u001b[39m\u001b[38;5;124m\"\u001b[39m, ingredientsArray) \u001b[38;5;66;03m# Just for testing.\u001b[39;00m\n\u001b[0;32m---> 18\u001b[0m \u001b[43minputIngredients\u001b[49m\u001b[43m(\u001b[49m\u001b[43m)\u001b[49m \u001b[38;5;66;03m# Calls the method which allows the user to input the ingredients.\u001b[39;00m\n",
      "Cell \u001b[0;32mIn[4], line 8\u001b[0m, in \u001b[0;36minputIngredients\u001b[0;34m()\u001b[0m\n\u001b[1;32m      6\u001b[0m \u001b[38;5;66;03m# Allows the user to input ingredients until they press enter without typing anything.\u001b[39;00m\n\u001b[1;32m      7\u001b[0m \u001b[38;5;28;01mwhile\u001b[39;00m \u001b[38;5;28;01mTrue\u001b[39;00m:\n\u001b[0;32m----> 8\u001b[0m     ingredient \u001b[38;5;241m=\u001b[39m \u001b[38;5;28;43minput\u001b[39;49m\u001b[43m(\u001b[49m\u001b[38;5;124;43m\"\u001b[39;49m\u001b[38;5;124;43m\"\u001b[39;49m\u001b[43m)\u001b[49m\n\u001b[1;32m     10\u001b[0m     \u001b[38;5;66;03m# Check if the input is blank. If yes, exit the loop.\u001b[39;00m\n\u001b[1;32m     11\u001b[0m     \u001b[38;5;28;01mif\u001b[39;00m ingredient \u001b[38;5;241m==\u001b[39m \u001b[38;5;124m\"\u001b[39m\u001b[38;5;124m\"\u001b[39m:\n",
      "File \u001b[0;32m/opt/miniconda3/lib/python3.12/site-packages/ipykernel/kernelbase.py:1282\u001b[0m, in \u001b[0;36mKernel.raw_input\u001b[0;34m(self, prompt)\u001b[0m\n\u001b[1;32m   1280\u001b[0m     msg \u001b[38;5;241m=\u001b[39m \u001b[38;5;124m\"\u001b[39m\u001b[38;5;124mraw_input was called, but this frontend does not support input requests.\u001b[39m\u001b[38;5;124m\"\u001b[39m\n\u001b[1;32m   1281\u001b[0m     \u001b[38;5;28;01mraise\u001b[39;00m StdinNotImplementedError(msg)\n\u001b[0;32m-> 1282\u001b[0m \u001b[38;5;28;01mreturn\u001b[39;00m \u001b[38;5;28;43mself\u001b[39;49m\u001b[38;5;241;43m.\u001b[39;49m\u001b[43m_input_request\u001b[49m\u001b[43m(\u001b[49m\n\u001b[1;32m   1283\u001b[0m \u001b[43m    \u001b[49m\u001b[38;5;28;43mstr\u001b[39;49m\u001b[43m(\u001b[49m\u001b[43mprompt\u001b[49m\u001b[43m)\u001b[49m\u001b[43m,\u001b[49m\n\u001b[1;32m   1284\u001b[0m \u001b[43m    \u001b[49m\u001b[38;5;28;43mself\u001b[39;49m\u001b[38;5;241;43m.\u001b[39;49m\u001b[43m_parent_ident\u001b[49m\u001b[43m[\u001b[49m\u001b[38;5;124;43m\"\u001b[39;49m\u001b[38;5;124;43mshell\u001b[39;49m\u001b[38;5;124;43m\"\u001b[39;49m\u001b[43m]\u001b[49m\u001b[43m,\u001b[49m\n\u001b[1;32m   1285\u001b[0m \u001b[43m    \u001b[49m\u001b[38;5;28;43mself\u001b[39;49m\u001b[38;5;241;43m.\u001b[39;49m\u001b[43mget_parent\u001b[49m\u001b[43m(\u001b[49m\u001b[38;5;124;43m\"\u001b[39;49m\u001b[38;5;124;43mshell\u001b[39;49m\u001b[38;5;124;43m\"\u001b[39;49m\u001b[43m)\u001b[49m\u001b[43m,\u001b[49m\n\u001b[1;32m   1286\u001b[0m \u001b[43m    \u001b[49m\u001b[43mpassword\u001b[49m\u001b[38;5;241;43m=\u001b[39;49m\u001b[38;5;28;43;01mFalse\u001b[39;49;00m\u001b[43m,\u001b[49m\n\u001b[1;32m   1287\u001b[0m \u001b[43m\u001b[49m\u001b[43m)\u001b[49m\n",
      "File \u001b[0;32m/opt/miniconda3/lib/python3.12/site-packages/ipykernel/kernelbase.py:1325\u001b[0m, in \u001b[0;36mKernel._input_request\u001b[0;34m(self, prompt, ident, parent, password)\u001b[0m\n\u001b[1;32m   1322\u001b[0m \u001b[38;5;28;01mexcept\u001b[39;00m \u001b[38;5;167;01mKeyboardInterrupt\u001b[39;00m:\n\u001b[1;32m   1323\u001b[0m     \u001b[38;5;66;03m# re-raise KeyboardInterrupt, to truncate traceback\u001b[39;00m\n\u001b[1;32m   1324\u001b[0m     msg \u001b[38;5;241m=\u001b[39m \u001b[38;5;124m\"\u001b[39m\u001b[38;5;124mInterrupted by user\u001b[39m\u001b[38;5;124m\"\u001b[39m\n\u001b[0;32m-> 1325\u001b[0m     \u001b[38;5;28;01mraise\u001b[39;00m \u001b[38;5;167;01mKeyboardInterrupt\u001b[39;00m(msg) \u001b[38;5;28;01mfrom\u001b[39;00m \u001b[38;5;28;01mNone\u001b[39;00m\n\u001b[1;32m   1326\u001b[0m \u001b[38;5;28;01mexcept\u001b[39;00m \u001b[38;5;167;01mException\u001b[39;00m:\n\u001b[1;32m   1327\u001b[0m     \u001b[38;5;28mself\u001b[39m\u001b[38;5;241m.\u001b[39mlog\u001b[38;5;241m.\u001b[39mwarning(\u001b[38;5;124m\"\u001b[39m\u001b[38;5;124mInvalid Message:\u001b[39m\u001b[38;5;124m\"\u001b[39m, exc_info\u001b[38;5;241m=\u001b[39m\u001b[38;5;28;01mTrue\u001b[39;00m)\n",
      "\u001b[0;31mKeyboardInterrupt\u001b[0m: Interrupted by user"
     ]
    }
   ],
   "source": [
    "# Method to store the inputed ingredients into an array.\n",
    "def inputIngredients():\n",
    "    ingredientsArray = []\n",
    "    print(\"Enter the ingredients:\")\n",
    "\n",
    "    # Allows the user to input ingredients until they press enter without typing anything.\n",
    "    while True:\n",
    "        ingredient = input(\"\")\n",
    "\n",
    "        # Check if the input is blank. If yes, exit the loop.\n",
    "        if ingredient == \"\":\n",
    "            break\n",
    "        # Otherwise add the inputed ingredient into the array.\n",
    "        ingredientsArray.append(ingredient)\n",
    "    \n",
    "    print(\"ingredients: \", ingredientsArray) # Just for testing.\n",
    "\n",
    "inputIngredients() # Calls the method which allows the user to input the ingredients."
   ]
  },
  {
   "cell_type": "code",
   "execution_count": 11,
   "metadata": {},
   "outputs": [
    {
     "name": "stdout",
     "output_type": "stream",
     "text": [
      "                                              Method  \\\n",
      "1  Add the parsley, celery, spring onion, onion, ...   \n",
      "2  Preheat the oven to 200¡C, fan 180¡C, gas mark...   \n",
      "0  1. Add the scotch bonnet, onion and red pepper...   \n",
      "\n",
      "                                         Ingredients  Matches  \n",
      "1  Marinade 60g fresh coriander 35g fresh parsley...        7  \n",
      "2  4 baking potatoes, scrubbed clean 250g extra-l...        6  \n",
      "0  1 scotch bonnet pepper 1 medium chopped onion ...        5  \n"
     ]
    }
   ],
   "source": [
    "import re\n",
    "\n",
    "def suggest_recipes(df, available_ingredients):\n",
    "    if df is None:\n",
    "        print(\"Error: DataFrame is not loaded.\")\n",
    "        return None\n",
    "    \n",
    "    available_ingredients = set(map(str.lower, available_ingredients))  # Convert to lowercase for case-insensitive matching\n",
    "    \n",
    "    def count_matches(ingredients):\n",
    "        if pd.isna(ingredients):\n",
    "            return 0\n",
    "        ingredients_set = set(map(str.lower, re.findall(r\"\\b\\w+\\b\", ingredients)))  # Extract words as ingredients\n",
    "        return len(ingredients_set.intersection(available_ingredients))\n",
    "    \n",
    "    df = df.copy()  # Avoid SettingWithCopyWarning\n",
    "    df[\"Matches\"] = df[\"Ingredients\"].apply(count_matches)\n",
    "    \n",
    "    top_recipes = df.sort_values(by=\"Matches\", ascending=False).head(3)\n",
    "    return top_recipes[[\"Method\", \"Ingredients\", \"Matches\"]]\n",
    "\n",
    "# Example usage\n",
    "ingredientsArray = ['baking', 'potatoes', 'pepper', 'coriander', 'salt', 'onion', 'garlic', 'tomato', 'chicken', 'oil', 'water']\n",
    "top = suggest_recipes(df, available_ingredients=ingredientsArray)\n",
    "if top is not None:\n",
    "    print(top)\n",
    "\n"
   ]
  }
 ],
 "metadata": {
  "kernelspec": {
   "display_name": "base",
   "language": "python",
   "name": "python3"
  },
  "language_info": {
   "codemirror_mode": {
    "name": "ipython",
    "version": 3
   },
   "file_extension": ".py",
   "mimetype": "text/x-python",
   "name": "python",
   "nbconvert_exporter": "python",
   "pygments_lexer": "ipython3",
   "version": "3.12.2"
  }
 },
 "nbformat": 4,
 "nbformat_minor": 2
}
