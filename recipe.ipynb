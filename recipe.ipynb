{
 "cells": [
  {
   "cell_type": "code",
   "execution_count": 1,
   "metadata": {},
   "outputs": [],
   "source": [
    "import pandas as pd\n",
    "import numpy as np"
   ]
  },
  {
   "cell_type": "code",
   "execution_count": 2,
   "metadata": {},
   "outputs": [],
   "source": [
    "file = \"data/recipeDataset.csv\"\n",
    "#df = pd.read_csv(file)  //Doesn't work\n",
    "df = pd.read_csv(file, encoding='ISO-8859-1')"
   ]
  },
  {
   "cell_type": "code",
   "execution_count": 3,
   "metadata": {},
   "outputs": [
    {
     "data": {
      "text/html": [
       "<div>\n",
       "<style scoped>\n",
       "    .dataframe tbody tr th:only-of-type {\n",
       "        vertical-align: middle;\n",
       "    }\n",
       "\n",
       "    .dataframe tbody tr th {\n",
       "        vertical-align: top;\n",
       "    }\n",
       "\n",
       "    .dataframe thead th {\n",
       "        text-align: right;\n",
       "    }\n",
       "</style>\n",
       "<table border=\"1\" class=\"dataframe\">\n",
       "  <thead>\n",
       "    <tr style=\"text-align: right;\">\n",
       "      <th></th>\n",
       "      <th>Number</th>\n",
       "      <th>Name</th>\n",
       "      <th>Ingredients</th>\n",
       "      <th>Method</th>\n",
       "      <th>Energy_kcal</th>\n",
       "      <th>Nutritional_Information_Per_Serving</th>\n",
       "      <th>Serves</th>\n",
       "    </tr>\n",
       "  </thead>\n",
       "  <tbody>\n",
       "    <tr>\n",
       "      <th>0</th>\n",
       "      <td>1</td>\n",
       "      <td>Asaro potato porridge recipe</td>\n",
       "      <td>1 scotch bonnet pepper 1 medium chopped onion ...</td>\n",
       "      <td>1. Add the scotch bonnet, onion and red pepper...</td>\n",
       "      <td>329kcal</td>\n",
       "      <td>14g protein 10g fat, of which 3.5g saturates 4...</td>\n",
       "      <td>4.0</td>\n",
       "    </tr>\n",
       "    <tr>\n",
       "      <th>1</th>\n",
       "      <td>2</td>\n",
       "      <td>Bajan cou cou with spicy fish</td>\n",
       "      <td>Marinade 60g fresh coriander 35g fresh parsley...</td>\n",
       "      <td>Add the parsley, celery, spring onion, onion, ...</td>\n",
       "      <td>410kcal</td>\n",
       "      <td>37.3g protein 48g carbohydrate, of which 11.1g...</td>\n",
       "      <td>4.0</td>\n",
       "    </tr>\n",
       "    <tr>\n",
       "      <th>2</th>\n",
       "      <td>3</td>\n",
       "      <td>Baked potatoes with mince recipe</td>\n",
       "      <td>4 baking potatoes, scrubbed clean 250g extra-l...</td>\n",
       "      <td>Preheat the oven to 200¡C, fan 180¡C, gas mark...</td>\n",
       "      <td>306kcal</td>\n",
       "      <td>20.6g protein 3.5g fat, of which 1.6g saturate...</td>\n",
       "      <td>4.0</td>\n",
       "    </tr>\n",
       "    <tr>\n",
       "      <th>3</th>\n",
       "      <td>4</td>\n",
       "      <td>NaN</td>\n",
       "      <td>NaN</td>\n",
       "      <td>NaN</td>\n",
       "      <td>NaN</td>\n",
       "      <td>NaN</td>\n",
       "      <td>NaN</td>\n",
       "    </tr>\n",
       "  </tbody>\n",
       "</table>\n",
       "</div>"
      ],
      "text/plain": [
       "   Number                              Name  \\\n",
       "0       1      Asaro potato porridge recipe   \n",
       "1       2     Bajan cou cou with spicy fish   \n",
       "2       3  Baked potatoes with mince recipe   \n",
       "3       4                               NaN   \n",
       "\n",
       "                                         Ingredients  \\\n",
       "0  1 scotch bonnet pepper 1 medium chopped onion ...   \n",
       "1  Marinade 60g fresh coriander 35g fresh parsley...   \n",
       "2  4 baking potatoes, scrubbed clean 250g extra-l...   \n",
       "3                                                NaN   \n",
       "\n",
       "                                              Method Energy_kcal  \\\n",
       "0  1. Add the scotch bonnet, onion and red pepper...    329kcal    \n",
       "1  Add the parsley, celery, spring onion, onion, ...     410kcal   \n",
       "2  Preheat the oven to 200¡C, fan 180¡C, gas mark...     306kcal   \n",
       "3                                                NaN         NaN   \n",
       "\n",
       "                 Nutritional_Information_Per_Serving  Serves  \n",
       "0  14g protein 10g fat, of which 3.5g saturates 4...     4.0  \n",
       "1  37.3g protein 48g carbohydrate, of which 11.1g...     4.0  \n",
       "2  20.6g protein 3.5g fat, of which 1.6g saturate...     4.0  \n",
       "3                                                NaN     NaN  "
      ]
     },
     "execution_count": 3,
     "metadata": {},
     "output_type": "execute_result"
    }
   ],
   "source": [
    "df.head() # This outputs the Recipe Dataset Table."
   ]
  },
  {
   "cell_type": "code",
   "execution_count": 4,
   "metadata": {},
   "outputs": [
    {
     "name": "stdout",
     "output_type": "stream",
     "text": [
      "Enter the ingredients:\n"
     ]
    }
   ],
   "source": [
    "# Method to store the inputed ingredients into an array.\n",
    "def inputIngredients():\n",
    "    ingredientsArray = []\n",
    "    print(\"Enter the ingredients:\")\n",
    "\n",
    "    # Allows the user to input ingredients until they press enter without typing anything.\n",
    "    while True:\n",
    "        ingredient = input(\"\")\n",
    "\n",
    "        # Check if the input is blank. If yes, exit the loop.\n",
    "        if ingredient == \"\":\n",
    "            break\n",
    "        # Otherwise add the inputed ingredient into the array.\n",
    "        ingredientsArray.append(ingredient)\n",
    "    \n",
    "    print(\"ingredients: \", ingredientsArray) # Just for testing.\n",
    "\n",
    "inputIngredients() # Calls the method which allows the user to input the ingredients."
   ]
  },
  {
   "cell_type": "code",
   "execution_count": 10,
   "metadata": {},
   "outputs": [
    {
     "ename": "NameError",
     "evalue": "name 'ingredientsArray' is not defined",
     "output_type": "error",
     "traceback": [
      "\u001b[0;31m---------------------------------------------------------------------------\u001b[0m",
      "\u001b[0;31mNameError\u001b[0m                                 Traceback (most recent call last)",
      "Cell \u001b[0;32mIn[10], line 17\u001b[0m\n\u001b[1;32m     14\u001b[0m     top_recipes \u001b[38;5;241m=\u001b[39m df\u001b[38;5;241m.\u001b[39msort_values(by\u001b[38;5;241m=\u001b[39m\u001b[38;5;124m\"\u001b[39m\u001b[38;5;124mMatches\u001b[39m\u001b[38;5;124m\"\u001b[39m, ascending\u001b[38;5;241m=\u001b[39m\u001b[38;5;28;01mFalse\u001b[39;00m)\u001b[38;5;241m.\u001b[39mhead(\u001b[38;5;241m3\u001b[39m)\n\u001b[1;32m     16\u001b[0m     \u001b[38;5;28;01mreturn\u001b[39;00m top_recipes[[\u001b[38;5;124m\"\u001b[39m\u001b[38;5;124mRecipe\u001b[39m\u001b[38;5;124m\"\u001b[39m, \u001b[38;5;124m\"\u001b[39m\u001b[38;5;124mIngredients\u001b[39m\u001b[38;5;124m\"\u001b[39m, \u001b[38;5;124m\"\u001b[39m\u001b[38;5;124mMatches\u001b[39m\u001b[38;5;124m\"\u001b[39m]]\n\u001b[0;32m---> 17\u001b[0m top \u001b[38;5;241m=\u001b[39m suggest_recipes(df, available_ingredients\u001b[38;5;241m=\u001b[39m \u001b[43mingredientsArray\u001b[49m) \n\u001b[1;32m     18\u001b[0m \u001b[38;5;28mprint\u001b[39m(top) \u001b[38;5;66;03m# This will output the top 3 recipes that match the inputed ingredients.\u001b[39;00m\n",
      "\u001b[0;31mNameError\u001b[0m: name 'ingredientsArray' is not defined"
     ]
    }
   ],
   "source": [
    "def suggest_recipes(df, available_ingredients):\n",
    "    # Convert available ingredients to a set for faster lookup\n",
    "    available_ingredients = set(available_ingredients)\n",
    "    \n",
    "    # Function to count matches in the ingredients column\n",
    "    def count_matches(ingredients):\n",
    "        ingredients_set = set(ingredients.split(\", \"))\n",
    "        return len(ingredients_set.intersection(available_ingredients))\n",
    "    \n",
    "    # Apply function to count matches\n",
    "    df[\"Matches\"] = df[\"Ingredients\"].apply(count_matches)\n",
    "    \n",
    "    # Sort by most matches and get top 3\n",
    "    top_recipes = df.sort_values(by=\"Matches\", ascending=False).head(3)\n",
    "    \n",
    "    return top_recipes[[\"Recipe\", \"Ingredients\", \"Matches\"]]\n",
    "top = suggest_recipes(df, available_ingredients= ingredientsArray) \n",
    "print(top) # This will output the top 3 recipes that match the inputed ingredients."
   ]
  }
 ],
 "metadata": {
  "kernelspec": {
   "display_name": "base",
   "language": "python",
   "name": "python3"
  },
  "language_info": {
   "codemirror_mode": {
    "name": "ipython",
    "version": 3
   },
   "file_extension": ".py",
   "mimetype": "text/x-python",
   "name": "python",
   "nbconvert_exporter": "python",
   "pygments_lexer": "ipython3",
   "version": "3.12.2"
  }
 },
 "nbformat": 4,
 "nbformat_minor": 2
}
