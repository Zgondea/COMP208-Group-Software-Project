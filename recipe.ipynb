{
 "cells": [
  {
   "cell_type": "code",
   "execution_count": 1,
   "metadata": {},
   "outputs": [],
   "source": [
    "import pandas as pd\n",
    "import numpy as np"
   ]
  },
  {
   "cell_type": "code",
   "execution_count": 6,
   "metadata": {},
   "outputs": [],
   "source": [
    "file = \"/Users/hamzaqadus/Desktop/recipeDataset.csv\"\n",
    "df = pd.read_csv(file)"
   ]
  },
  {
   "cell_type": "code",
   "execution_count": null,
   "metadata": {},
   "outputs": [
    {
     "data": {
      "text/html": [
       "<div>\n",
       "<style scoped>\n",
       "    .dataframe tbody tr th:only-of-type {\n",
       "        vertical-align: middle;\n",
       "    }\n",
       "\n",
       "    .dataframe tbody tr th {\n",
       "        vertical-align: top;\n",
       "    }\n",
       "\n",
       "    .dataframe thead th {\n",
       "        text-align: right;\n",
       "    }\n",
       "</style>\n",
       "<table border=\"1\" class=\"dataframe\">\n",
       "  <thead>\n",
       "    <tr style=\"text-align: right;\">\n",
       "      <th></th>\n",
       "      <th></th>\n",
       "      <th></th>\n",
       "      <th>recipeDataset</th>\n",
       "    </tr>\n",
       "  </thead>\n",
       "  <tbody>\n",
       "    <tr>\n",
       "      <th>Name</th>\n",
       "      <th>Ingredients</th>\n",
       "      <th>Method</th>\n",
       "      <td>Energy_kcal</td>\n",
       "    </tr>\n",
       "    <tr>\n",
       "      <th>Asaro potato porridge recipe</th>\n",
       "      <th>1 scotch bonnet pepper 1 medium chopped onion 2 red bell peppers, deseeded and chopped 300ml water 425g sweet potato, peeled and cut into cubes 425g white potato, peeled and cut into cubes 2 teaspoons red palm oil 1 tablespoon ground crayfish (optional) 1 small (5g) lower-salt stock cube 80g kale, washed 4 hard-boiled eggs, peeled</th>\n",
       "      <th>1. Add the scotch bonnet, onion and red pepper to a food blender with 300ml water, and blend to a smooth paste. 2. Pour the blended ingredients into a large pot, then add the white potato, sweet potato, palm oil, stock cube and crayfish (if using). Top up with more water until the potatoes are covered by about 3cm. 3. Cover the pot and boil on a medium-low heat for about 20 minutes, or until the potatoes are soft enough to mash. The mixture should be quite loose and saucy. 4. Lower the heat and use a wooden spoon to gently crush the potatoes and combine with the sauce. 5. Stir in the kale and allow the mixture to simmer for 3 to 5 minutes. 6. Gently create 4 wells in the mixture and add the hard-boiled eggs. Serve hot and enjoy!</th>\n",
       "      <td>329kcal</td>\n",
       "    </tr>\n",
       "    <tr>\n",
       "      <th>Bajan cou cou with spicy fish</th>\n",
       "      <th>Marinade 60g fresh coriander 35g fresh parsley 2 stalks celery, roughly chopped 3 spring onions, chopped 5 garlic cloves half a small onion 2.5cm (1 inch) chunk of fresh ginger, peeled 4 sprigs thyme 4 red mild chillis 2 teaspoons lime juice 650g white fish fillets (such as coley, cod or pollock), cleaned and washed Fish sauce 1 tablespoon vegetable oil 1 small onion, sliced half a yellow pepper, deseeded and cut into strips half a red pepper, deseeded and cut into strips 2 sprigs fresh thyme 400g tin chopped tomatoes 1 small scotch bonnet pepper, finely chopped (optional) 0.5 teaspoon salt (optional) Cou cou 200g cornmeal powder 100g raw okra, diced 1 teaspoon vegetable oil 600ml water</th>\n",
       "      <th>Add the parsley, celery, spring onion, onion, ginger, 4 sprigs of fresh thyme, red chilli and lime juice to a food processor and pulse several times to give a coarse green marinade. Put the fish fillets in a bowl, then pour in the mixture. Turn and brush the fish well to make sure it's completely covered by the marinade. Cover the bowl and put it in the fridge for at least 30 minutes (or even overnight).\\nTo make the sauce, heat the oil in a large pan and add the onions and peppers. Cook for about 5 minutes on medium heat until they have started to soften and turn golden. Then add the remaining 2 sprigs of thyme and the scotch bonnet (if using), and cook for 1 more minute. Add the marinated fish, tomatoes and salt, gently stir and spoon the sauce over the fish. Turn the heat down to low, cover the pot and simmer for 10 to 15 minutes. While the fish is cooking, make the cou cou. Add the cornmeal to a mixing bowl and slowly add just enough cold water to cover it. Use a wooden spoon to mix to a smooth paste, with no dry lumps visible. Set this cornmeal paste aside.\\nPut the diced okra in a pot with about 400ml of water. Bring to a medium boil, then lower the heat and leave to simmer for about 5 minutes until the okra softens. Use a sieve or colander to drain the okra, making sure to keep the hot okra water. Put the okra aside, then pour about a quarter of the hot okra water back into the pan and the rest into a jug.\\nWith the heat on low, gradually add a quarter of the soaked cornmeal mixture to the okra water in the pot, and whisk to a smooth paste. Add the oil to the mixture and whisk well, before gradually adding the rest of the okra water and cornmeal. Whisk continuously until all the cornmeal and liquid is well mixed and smooth.\\nSwitch to a wooden spoon and keep mixing the cornmeal for another 2 or 3 minutes. It will start to bubble and thicken, so will need mixing harder to avoid lumps. At this point add the cooked okra and mix for another few minutes, or until the okra is well incorporated though the cornmeal, and then remove from the heat. Scatter the chopped parsley over the fish, and serve with the cou cou.</th>\n",
       "      <td>410kcal</td>\n",
       "    </tr>\n",
       "  </tbody>\n",
       "</table>\n",
       "</div>"
      ],
      "text/plain": [
       "                                                                                                                                    recipeDataset\n",
       "Name                          Ingredients                                        Method                                               Energy_kcal\n",
       "Asaro potato porridge recipe  1 scotch bonnet pepper 1 medium chopped onion 2... 1. Add the scotch bonnet, onion and red pepper ...       329kcal\n",
       "Bajan cou cou with spicy fish Marinade 60g fresh coriander 35g fresh parsley ... Add the parsley, celery, spring onion, onion, g...       410kcal"
      ]
     },
     "execution_count": 7,
     "metadata": {},
     "output_type": "execute_result"
    }
   ],
   "source": [
    "df.head()\n",
    "\n",
    "print(\"it works\")"
   ]
  }
 ],
 "metadata": {
  "kernelspec": {
   "display_name": "base",
   "language": "python",
   "name": "python3"
  },
  "language_info": {
   "codemirror_mode": {
    "name": "ipython",
    "version": 3
   },
   "file_extension": ".py",
   "mimetype": "text/x-python",
   "name": "python",
   "nbconvert_exporter": "python",
   "pygments_lexer": "ipython3",
   "version": "3.12.2"
  }
 },
 "nbformat": 4,
 "nbformat_minor": 2
}
